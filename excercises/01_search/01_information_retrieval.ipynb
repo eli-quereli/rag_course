{
 "cells": [
  {
   "cell_type": "markdown",
   "id": "f425f36f",
   "metadata": {},
   "source": [
    "# Information Retrieval / Suche mit Python\n",
    "\n",
    "### 1) Keyword-basierte Suche · 2) Gewichtete Suche mit Whoosh · 3) Semantische Suche mit Embeddings\n",
    "\n",
    "In dieser Übung lernen Sie verschiedene Möglichkeiten kennen, eine Suche in einem kleinen Beispielkorpus zu implementieren - von einem einfachen keyword-basierten Ansatz über die eine gewichtete Suche mit TF-IDF bis hin zu semantischer Suche mit Embeddings. \n",
    "\n",
    "\n",
    "**Vorbereitung:**\n",
    "1. `venv` aktivieren!\n",
    "2. Benötigte Libraries installieren: `pip install whoosh sentence-transformers numpy`\n",
    "3. Neu installierte Libraries zu `requirements.txt` hinzufügen: `pip freeze > requirements.txt`"
   ]
  },
  {
   "cell_type": "markdown",
   "id": "f83434c8",
   "metadata": {},
   "source": [
    "## Beispielkorpus erzeugen\n",
    "\n",
    "Wir arbeiten mit einer erweiterten Version des FAQ-Korpus aus der Python-Einführung. \n",
    "\n",
    "Um diesen zu erzeugen habe ich den ursprünglichen Korpus mit Hilfe eines LLMs [*augmentiert*](https://www.datacamp.com/tutorial/complete-guide-data-augmentation), d.h. Variationen der Beispieldokumente erzeugt, um die Datenbasis zu erweitern: "
   ]
  },
  {
   "cell_type": "code",
   "execution_count": 150,
   "id": "9a76a702",
   "metadata": {},
   "outputs": [
    {
     "name": "stdout",
     "output_type": "stream",
     "text": [
      "39 documents loaded.\n"
     ]
    }
   ],
   "source": [
    "documents = [\n",
    "    'Wie kann ich mein Passwort Passwort zurücksetzen?',\n",
    "    'Wie ändere ich mein Passwort?',\n",
    "    'Passwort vergessen - wie kann ich es zurücksetzen?',\n",
    "    'Wie kann ich mein Login-Passwort erneuern?',\n",
    "    'Wo finde ich meine Bestellhistorie?',\n",
    "    'Wie kann ich meine bisherigen Bestellungen einsehen?',\n",
    "    'Wo sehe ich meine vergangenen Bestellungen?',\n",
    "    'Wo kann ich meine Bestellungen überprüfen?',\n",
    "    'Bestellhistorie abrufen wie geht das?',\n",
    "    'Wie kann ich meine Lieferadresse ändern?',\n",
    "    'Lieferadresse aktualisieren wie geht das?',\n",
    "    'Wie ändere ich meine Versandadresse?',\n",
    "    'Kann ich meine Adresse nachträglich ändern?',\n",
    "    'Adresse für Lieferung ändern möglich?',\n",
    "    'Wie kontaktiere ich den Kundendienst?',\n",
    "    'Wie erreiche ich den Support?',\n",
    "    'Kundendienst kontaktieren wie?',\n",
    "    'Wo kann ich den Kundenservice erreichen?',\n",
    "    'Wie bekomme ich Hilfe vom Support-Team?',\n",
    "    'Welche Zahlungsmethoden werden akzeptiert?',\n",
    "    'Welche Bezahlmöglichkeiten gibt es?',\n",
    "    'Wie kann ich bezahlen?',\n",
    "    'Akzeptierte Zahlungsmethoden - Übersicht',\n",
    "    'Welche Zahlungsarten stehen zur Verfügung?',\n",
    "    'Wie kann ich meine Bestellung stornieren?',\n",
    "    'Bestellung rückgängig machen wie?',\n",
    "    'Wie annulliere ich eine Bestellung?',\n",
    "    'Kann ich meine Bestellung noch stornieren?',\n",
    "    'Stornierung einer Bestellung Anleitung',\n",
    "    'Wie lange dauert der Versand?',\n",
    "    'Versanddauer - wie lange dauert es?',\n",
    "    'Wann wird meine Bestellung geliefert?',\n",
    "    'Lieferzeitraum - wie lang ist er?',\n",
    "    'Wie schnell kommt meine Bestellung an?',\n",
    "    'Kann ich Artikel nach der Bestellung noch ändern?',\n",
    "    'Kann ich meine Bestellung nachträglich bearbeiten?',\n",
    "    'Artikel in einer bereits getätigten Bestellung ändern - geht das?',\n",
    "    'Bestellung nachträglich ändern - möglich?',\n",
    "    'Kann ich Produkte nach der Bestellung austauschen?'\n",
    "]\n",
    "\n",
    "print(f'{len(documents)} documents loaded.')"
   ]
  },
  {
   "cell_type": "markdown",
   "id": "587700ec",
   "metadata": {},
   "source": [
    "### 1. Einen einfachen **Invertierten Index** erzeugen"
   ]
  },
  {
   "cell_type": "markdown",
   "id": "fe5f498b",
   "metadata": {},
   "source": [
    "Bei dieser Aufgabe geht es darum, die Dokument aus dem Korpus so zu organisieren, dass Sie schnell Dokumente finden können, die ein gesuchtes Wort enthalten.\n",
    "\n",
    "#### 1. Erstellen Sie einen invertierten Index:\n",
    "\n",
    "- Erzeugen Sie ein dictionary, in dem die keys Wörter und die values Listen mit den IDs der Dokumente sind, in denen das jeweilige Wort vorkommt.\n",
    "\n",
    "- Preprocessing-Vorgaben: Schreiben Sie alle Wörter in Kleinbuchstaben und entfernen Sie Satzzeichen. \n",
    "\n",
    "#### 2. Schreiben Sie eine Funktion, um in Ihrem invertierten Index nach einem Wort zu suchen:\n",
    "\n",
    "- Die Funktion soll eine Liste mit allen IDs der Dokumente zurückgeben, die das gesuchte Wort enthalten.\n",
    "\n",
    "- Testen Sie die Funktion, indem Sie jedes passende Dokument und seine ID mit `print()` ausgeben.\n",
    "\n",
    "#### Beispiel-Ausgabe: \n",
    "\n",
    "```\n",
    "[[0, 'Wie kann ich mein Passwort Passwort zurücksetzen?'],\n",
    " [0, 'Wie kann ich mein Passwort Passwort zurücksetzen?'],\n",
    " [1, 'Wie ändere ich mein Passwort?'],\n",
    " [2, 'Passwort vergessen - wie kann ich es zurücksetzen?']]\n",
    "```\n",
    "\n",
    "#### Hinweise:\n",
    "- Nutzen Sie `.split()` für die Tokenisierung.\n",
    "\n",
    "- Nutzen Sie `.lower()`,  `.strip('')` und ggf. `.replace()` für das Preprocessing.\n",
    "\n",
    "- Mit `enumerate(documents)` können Sie sowohl auf das jeweilige Dokument als auch auf den Index zugreifen: \n",
    "\n",
    "- Beachten Sie, dass ein Wort in mehreren Dokumenten vorkommen kann - speichern Sie deshalb pro Wort eine Liste mit Document-IDs."
   ]
  },
  {
   "cell_type": "code",
   "execution_count": null,
   "id": "d61e72b9",
   "metadata": {},
   "outputs": [
    {
     "data": {
      "text/plain": [
       "[['wie', 'kann', 'ich', 'mein', 'passwort', 'passwort', 'zurücksetzen'],\n",
       " ['wie', 'ändere', 'ich', 'mein', 'passwort'],\n",
       " ['passwort', 'vergessen', 'wie', 'kann', 'ich', 'es', 'zurücksetzen'],\n",
       " ['wie', 'kann', 'ich', 'mein', 'loginpasswort', 'erneuern'],\n",
       " ['wo', 'finde', 'ich', 'meine', 'bestellhistorie']]"
      ]
     },
     "execution_count": 151,
     "metadata": {},
     "output_type": "execute_result"
    }
   ],
   "source": [
    "# 1. Invertierten Index erzeugen\n",
    "# a) Funktion für Preprocessing\n",
    "\n",
    "# Testen"
   ]
  },
  {
   "cell_type": "code",
   "execution_count": null,
   "id": "2b30661e",
   "metadata": {},
   "outputs": [],
   "source": [
    "# b) Invertierten Index bauen\n",
    "\n",
    "# Testen"
   ]
  },
  {
   "cell_type": "code",
   "execution_count": null,
   "id": "da59fdc3",
   "metadata": {},
   "outputs": [],
   "source": [
    "# 2. Such-Funktion"
   ]
  },
  {
   "cell_type": "code",
   "execution_count": null,
   "id": "3eefec46",
   "metadata": {},
   "outputs": [
    {
     "data": {
      "text/plain": [
       "[[0, 'Wie kann ich mein Passwort Passwort zurücksetzen?'],\n",
       " [0, 'Wie kann ich mein Passwort Passwort zurücksetzen?'],\n",
       " [1, 'Wie ändere ich mein Passwort?'],\n",
       " [2, 'Passwort vergessen - wie kann ich es zurücksetzen?']]"
      ]
     },
     "execution_count": 172,
     "metadata": {},
     "output_type": "execute_result"
    }
   ],
   "source": [
    "# Testen"
   ]
  },
  {
   "cell_type": "code",
   "execution_count": null,
   "id": "56695fa2",
   "metadata": {},
   "outputs": [],
   "source": [
    "# Bonus: Verbesserte Suche mit Ranking"
   ]
  },
  {
   "cell_type": "code",
   "execution_count": null,
   "id": "8cdc6610",
   "metadata": {},
   "outputs": [
    {
     "data": {
      "text/plain": [
       "[[0, 'Wie kann ich mein Passwort Passwort zurücksetzen?', 2],\n",
       " [1, 'Wie ändere ich mein Passwort?', 1],\n",
       " [2, 'Passwort vergessen - wie kann ich es zurücksetzen?', 1]]"
      ]
     },
     "execution_count": 176,
     "metadata": {},
     "output_type": "execute_result"
    }
   ],
   "source": [
    "# Testen"
   ]
  },
  {
   "cell_type": "markdown",
   "id": "7412da79",
   "metadata": {},
   "source": [
    "## 2. **Gewichtete Suche** mit Whoosh\n",
    "\n",
    "Bei dieser Aufgabe lernen Sie die IR-Library `Whoosh` kennen. \n",
    "\n",
    "Wir bauen mit `Whoosh` einen Index, fügen Dokumente hinzu und führen dann eine Suche aus. \n",
    "\n",
    "`Whoosh` ermöglicht es uns, eine gewichtete Suche zu machen, z.B. mit `TF-IDF` oder `BM25`."
   ]
  },
  {
   "cell_type": "code",
   "execution_count": null,
   "id": "69cb939d",
   "metadata": {},
   "outputs": [],
   "source": [
    "from whoosh.index import create_in\n",
    "from whoosh.fields import Schema, TEXT, ID\n",
    "from whoosh.qparser import QueryParser\n",
    "from whoosh import scoring  # for choosing the ranking algorithm\n",
    "import os, shutil\n",
    "\n",
    "# Schema für den Index definieren\n",
    "schema = Schema(\n",
    "    id=ID(stored=True),       # Dokument-ID\n",
    "    content=TEXT(stored=True)  # Dokument-Text\n",
    ")\n",
    "\n",
    "# Verzeichnis für den Index vorbereiten\n",
    "if os.path.exists('indexdir'):\n",
    "    shutil.rmtree('indexdir')\n",
    "os.mkdir('indexdir')\n",
    "\n",
    "# Index erzeugen und Dokumente hinzufügen\n",
    "ix = create_in('indexdir', schema)\n",
    "writer = ix.writer()"
   ]
  },
  {
   "cell_type": "markdown",
   "id": "7f15ab3c",
   "metadata": {},
   "source": [
    "**2.1 Aufgabe:** Vervollständigen Sie den folgenden Code, indem Sie die `???` ersetzen. "
   ]
  },
  {
   "cell_type": "code",
   "execution_count": null,
   "id": "66138703",
   "metadata": {},
   "outputs": [],
   "source": [
    "for i, doc in enumerate(documents):\n",
    "    writer.add_document(id=str('???'), content='???') \n",
    "writer.commit()"
   ]
  },
  {
   "cell_type": "markdown",
   "id": "1ab7f787",
   "metadata": {},
   "source": [
    "**2.2.** Aufgabe: \n",
    "\n",
    "- Testen Sie die folgende Suchfunktion mit verschiedenen Queries. \n",
    "- Verändern Sie das Limit der angezeigten Suchergebnisse. \n",
    "- Bei Bedarf können Sie auch den Beispielkorpus `documents` verändern. \n"
   ]
  },
  {
   "cell_type": "code",
   "execution_count": 192,
   "id": "b68d28ad",
   "metadata": {},
   "outputs": [
    {
     "name": "stdout",
     "output_type": "stream",
     "text": [
      "TF-IDF Ranking:\n",
      "Score: 5.137 | Doc 29: Wie lange dauert der Versand?\n",
      "Score: 5.137 | Doc 30: Versanddauer - wie lange dauert es?\n"
     ]
    }
   ],
   "source": [
    "# Durchsuchen des Index mit TF-IDF Gewichtung -> seltene Wörter haben mehr Gewicht\n",
    "query = 'wie lange' \n",
    "\n",
    "with ix.searcher(weighting=scoring.TF_IDF()) as searcher:  \n",
    "    query_str = query\n",
    "    parser = QueryParser('content', ix.schema)\n",
    "    query = parser.parse(query_str)\n",
    "\n",
    "    # Index durchsuchen, top n Treffer anzeigen\n",
    "    top_n = 5\n",
    "    results = searcher.search(query, limit=top_n)\n",
    "\n",
    "    print(\"TF-IDF Ranking:\")\n",
    "    for hit in results:\n",
    "        print(f\"Score: {hit.score:.3f} | Doc {hit['id']}: {hit['content']}\")\n"
   ]
  },
  {
   "cell_type": "markdown",
   "id": "27c65521",
   "metadata": {},
   "source": [
    "**Aufgabe 2.3:** \n",
    "\n",
    "- Passen Sie den Code so an, dass `BM25F` für die Gewichtung verwendet wird.\n",
    "- Probieren Sie die Suche erneut aus und schauen Sie, ob sich etwas verändert. \n",
    "- Passen Sie auch hier ggf. den Beispielkorpus an, z.B. indem Sie längere Dokumente hinzufügen. "
   ]
  },
  {
   "cell_type": "code",
   "execution_count": 1,
   "id": "475213c8",
   "metadata": {},
   "outputs": [],
   "source": [
    "# Lösung: "
   ]
  },
  {
   "cell_type": "markdown",
   "id": "7b26ae55",
   "metadata": {},
   "source": [
    "**Aufgabe 2.4:**\n",
    "\n",
    "- Vergleichen Sie die Suchergebnisse der manuellen Suche mit den Ergebnissen der gewichteten Suche. \n",
    "- Gibt es Unterschiede zwischen den Ergebnissen basierend auf TF-IDF vs. BM25F?"
   ]
  },
  {
   "cell_type": "markdown",
   "id": "018e979c",
   "metadata": {},
   "source": [
    "## 3. **Semantische Suche** mit Sentence Transformers\n",
    "\n",
    "- In dieser Demo nutzen Sie die `Sentence Transformers` Library, um Embeddings für den Beispielkorpus zu erzeugen. \n",
    "- Diese Embeddings nutzen Sie, um semantisch ähnliche Dokumente zu Ihrer Suche zu finden, mit Hilfe der Kosinus-Ähnlichkeit. "
   ]
  },
  {
   "cell_type": "code",
   "execution_count": 197,
   "id": "497fc8e4",
   "metadata": {},
   "outputs": [],
   "source": [
    "from sentence_transformers import SentenceTransformer, util\n",
    "\n",
    "# Laden eines vortrainierten Modells\n",
    "model = SentenceTransformer('all-MiniLM-L6-v2')\n",
    "\n",
    "# Embeddings für die Dokumente erzeugen\n",
    "doc_embeddings = model.encode(documents, convert_to_tensor=True)"
   ]
  },
  {
   "cell_type": "code",
   "execution_count": 198,
   "id": "ed48a64b",
   "metadata": {},
   "outputs": [],
   "source": [
    "# Funktion für semantische Suche, basierend auf Kosinus-Ähnlichkeit\n",
    "def semantic_search(query, top_k=3):\n",
    "    \"\"\"\n",
    "    Performs semantic search using sentence-transformers built-in cosine similarity.\n",
    "    \n",
    "    Returns top_k documents and their similarity scores.\n",
    "    \"\"\"\n",
    "    # Embedding für die Query erzeugen\n",
    "    query_emb = model.encode(query, convert_to_tensor=True)\n",
    "    \n",
    "    # Kosinus-Ähnlichkeit zwischen Query und allen Dokumenten berechnen\n",
    "    cosine_scores = util.cos_sim(query_emb, doc_embeddings)  # shape: (1, num_docs)\n",
    "    \n",
    "    # Ranking der Dokumente, nach höchstem Ähnlichkeits-Score; begrenzt durch Parameter top_k\n",
    "    ranked_indices = cosine_scores[0].argsort(descending=True)[:top_k]\n",
    "    \n",
    "    # Rückgabe der ähnlichsten Dokumente\n",
    "    return [(int(idx), float(cosine_scores[0][idx])) for idx in ranked_indices]"
   ]
  },
  {
   "cell_type": "code",
   "execution_count": 200,
   "id": "584ca0d6",
   "metadata": {},
   "outputs": [
    {
     "name": "stdout",
     "output_type": "stream",
     "text": [
      "\n",
      "Query: bestellung\n",
      "  Score: 0.737 | Doc 33: Wie schnell kommt meine Bestellung an?\n",
      "  Score: 0.663 | Doc 25: Bestellung rückgängig machen wie?\n",
      "  Score: 0.650 | Doc 31: Wann wird meine Bestellung geliefert?\n",
      "\n",
      "Query: rückgabe\n",
      "  Score: 0.413 | Doc 25: Bestellung rückgängig machen wie?\n",
      "  Score: 0.257 | Doc 22: Akzeptierte Zahlungsmethoden - Übersicht\n",
      "  Score: 0.255 | Doc 17: Wo kann ich den Kundenservice erreichen?\n",
      "\n",
      "Query: versand\n",
      "  Score: 0.472 | Doc 30: Versanddauer - wie lange dauert es?\n",
      "  Score: 0.463 | Doc 11: Wie ändere ich meine Versandadresse?\n",
      "  Score: 0.456 | Doc 29: Wie lange dauert der Versand?\n"
     ]
    }
   ],
   "source": [
    "# Testen\n",
    "queries = ['bestellung', 'rückgabe', 'versand']\n",
    "\n",
    "for q in queries:\n",
    "    print(f'\\nQuery: {q}')\n",
    "    for idx, score in semantic_search(q):\n",
    "        print(f'  Score: {score:.3f} | Doc {idx}: {documents[idx]}')"
   ]
  },
  {
   "cell_type": "markdown",
   "id": "d81c990b",
   "metadata": {},
   "source": [
    "## 4. Hausaufgabe: Ein vortrainiertes **Modell für deutschsprachige Dokumente** finden"
   ]
  },
  {
   "cell_type": "markdown",
   "id": "2d5bcf64",
   "metadata": {},
   "source": [
    "Ihre Aufgabe ist es, ein vortrainiertes Modell zu finden, das sich für die semantische Suche auf Deutsch eignet. \n",
    "\n",
    "\n",
    "Hierfür haben Sie zwei Möglichkeiten: \n",
    "\n",
    "**Multilinguale Modelle:** Viele Modelle sind multilingual, z. B. distiluse-base-multilingual-cased-v2, welches Deutsch unterstützt. Multilinguale Modelle sind flexibel für viele Sprachen, eventuell mit leicht geringerer Genauigkeit für Deutsch.\n",
    "\n",
    "**Deutsch-spezifische Modelle:** Einige Modelle wurden speziell auf deutsche Texte feinjustiert. Deutsch-spezifische Modelle bieten oft eine höhere Genauigkeit für deutsche Texte, eignen sich aber nicht für andere Sprachen.\n",
    "\n",
    "### Schritt 1: Hugging Face Modelle durchsuchen\n",
    "\n",
    "- Besuchen Sie: https://huggingface.co/models\n",
    "\n",
    "- Verwenden Sie die Suchleiste mit Keywords wie z.B.:\n",
    "\n",
    "„german sentence-transformer“\n",
    "\n",
    "„multilingual sentence embeddings“\n",
    "- Alternativ können Sie auch den Filter der Suchfunktion verwenden, um auf die Library `sentence-transformers` und deutsche Sprache zu fokussieren. \n",
    "\n",
    "- Wählen Sie ein Modell aus. \n",
    "\n",
    "- Prüfen Sie die Beschreibung und stellen Sie sicher, dass Deutsch (`de`) unterstützt wird.\n",
    "\n",
    "\n",
    "### Schritt 2: Modell anwenden\n",
    "\n",
    "- Passen Sie den obigen Code so an, dass das von Ihnen ausgewählte Modell verwendet wird. \n",
    "\n",
    "- Probieren Sie einige Suchanfragen erneut aus. \n",
    "\n",
    "- Vergleichen Sie das Ergebnis mit der vorherigen Suche. "
   ]
  }
 ],
 "metadata": {
  "kernelspec": {
   "display_name": ".venv",
   "language": "python",
   "name": "python3"
  },
  "language_info": {
   "codemirror_mode": {
    "name": "ipython",
    "version": 3
   },
   "file_extension": ".py",
   "mimetype": "text/x-python",
   "name": "python",
   "nbconvert_exporter": "python",
   "pygments_lexer": "ipython3",
   "version": "3.8.10"
  }
 },
 "nbformat": 4,
 "nbformat_minor": 5
}
